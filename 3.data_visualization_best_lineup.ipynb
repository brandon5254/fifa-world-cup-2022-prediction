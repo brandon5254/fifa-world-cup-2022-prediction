{
 "cells": [
  {
   "cell_type": "code",
   "execution_count": 2,
   "id": "4d47c598",
   "metadata": {},
   "outputs": [],
   "source": [
    "import pandas as pd\n",
    "import seaborn as sns\n",
    "import matplotlib.pyplot as plt\n",
    "sns.set_style('darkgrid')"
   ]
  },
  {
   "cell_type": "code",
   "execution_count": 3,
   "id": "a074903c",
   "metadata": {},
   "outputs": [
    {
     "ename": "FileNotFoundError",
     "evalue": "[Errno 2] No such file or directory: 'players_22.csv'",
     "output_type": "error",
     "traceback": [
      "\u001b[1;31m---------------------------------------------------------------------------\u001b[0m",
      "\u001b[1;31mFileNotFoundError\u001b[0m                         Traceback (most recent call last)",
      "\u001b[1;32mc:\\Users\\brand\\OneDrive\\Documentos\\GitHub\\fifa-world-cup-2022-prediction\\3.data_visualization_best_lineup.ipynb Cell 2\u001b[0m line \u001b[0;36m2\n\u001b[0;32m      <a href='vscode-notebook-cell:/c%3A/Users/brand/OneDrive/Documentos/GitHub/fifa-world-cup-2022-prediction/3.data_visualization_best_lineup.ipynb#W1sZmlsZQ%3D%3D?line=0'>1</a>\u001b[0m \u001b[39m# nation_position, club_position, player_positions\u001b[39;00m\n\u001b[1;32m----> <a href='vscode-notebook-cell:/c%3A/Users/brand/OneDrive/Documentos/GitHub/fifa-world-cup-2022-prediction/3.data_visualization_best_lineup.ipynb#W1sZmlsZQ%3D%3D?line=1'>2</a>\u001b[0m df \u001b[39m=\u001b[39m pd\u001b[39m.\u001b[39;49mread_csv(\u001b[39m'\u001b[39;49m\u001b[39mplayers_22.csv\u001b[39;49m\u001b[39m'\u001b[39;49m, low_memory\u001b[39m=\u001b[39;49m\u001b[39mFalse\u001b[39;49;00m)\n\u001b[0;32m      <a href='vscode-notebook-cell:/c%3A/Users/brand/OneDrive/Documentos/GitHub/fifa-world-cup-2022-prediction/3.data_visualization_best_lineup.ipynb#W1sZmlsZQ%3D%3D?line=3'>4</a>\u001b[0m \u001b[39m# selecting column\u001b[39;00m\n\u001b[0;32m      <a href='vscode-notebook-cell:/c%3A/Users/brand/OneDrive/Documentos/GitHub/fifa-world-cup-2022-prediction/3.data_visualization_best_lineup.ipynb#W1sZmlsZQ%3D%3D?line=4'>5</a>\u001b[0m df \u001b[39m=\u001b[39m df[[\u001b[39m'\u001b[39m\u001b[39mshort_name\u001b[39m\u001b[39m'\u001b[39m, \u001b[39m'\u001b[39m\u001b[39mage\u001b[39m\u001b[39m'\u001b[39m, \u001b[39m'\u001b[39m\u001b[39mnationality_name\u001b[39m\u001b[39m'\u001b[39m, \u001b[39m'\u001b[39m\u001b[39moverall\u001b[39m\u001b[39m'\u001b[39m, \u001b[39m'\u001b[39m\u001b[39mpotential\u001b[39m\u001b[39m'\u001b[39m,\n\u001b[0;32m      <a href='vscode-notebook-cell:/c%3A/Users/brand/OneDrive/Documentos/GitHub/fifa-world-cup-2022-prediction/3.data_visualization_best_lineup.ipynb#W1sZmlsZQ%3D%3D?line=5'>6</a>\u001b[0m          \u001b[39m'\u001b[39m\u001b[39mclub_name\u001b[39m\u001b[39m'\u001b[39m, \u001b[39m'\u001b[39m\u001b[39mvalue_eur\u001b[39m\u001b[39m'\u001b[39m, \u001b[39m'\u001b[39m\u001b[39mwage_eur\u001b[39m\u001b[39m'\u001b[39m, \u001b[39m'\u001b[39m\u001b[39mplayer_positions\u001b[39m\u001b[39m'\u001b[39m]]\n",
      "File \u001b[1;32mc:\\Users\\brand\\AppData\\Local\\Programs\\Python\\Python38\\lib\\site-packages\\pandas\\io\\parsers\\readers.py:912\u001b[0m, in \u001b[0;36mread_csv\u001b[1;34m(filepath_or_buffer, sep, delimiter, header, names, index_col, usecols, dtype, engine, converters, true_values, false_values, skipinitialspace, skiprows, skipfooter, nrows, na_values, keep_default_na, na_filter, verbose, skip_blank_lines, parse_dates, infer_datetime_format, keep_date_col, date_parser, date_format, dayfirst, cache_dates, iterator, chunksize, compression, thousands, decimal, lineterminator, quotechar, quoting, doublequote, escapechar, comment, encoding, encoding_errors, dialect, on_bad_lines, delim_whitespace, low_memory, memory_map, float_precision, storage_options, dtype_backend)\u001b[0m\n\u001b[0;32m    899\u001b[0m kwds_defaults \u001b[39m=\u001b[39m _refine_defaults_read(\n\u001b[0;32m    900\u001b[0m     dialect,\n\u001b[0;32m    901\u001b[0m     delimiter,\n\u001b[1;32m   (...)\u001b[0m\n\u001b[0;32m    908\u001b[0m     dtype_backend\u001b[39m=\u001b[39mdtype_backend,\n\u001b[0;32m    909\u001b[0m )\n\u001b[0;32m    910\u001b[0m kwds\u001b[39m.\u001b[39mupdate(kwds_defaults)\n\u001b[1;32m--> 912\u001b[0m \u001b[39mreturn\u001b[39;00m _read(filepath_or_buffer, kwds)\n",
      "File \u001b[1;32mc:\\Users\\brand\\AppData\\Local\\Programs\\Python\\Python38\\lib\\site-packages\\pandas\\io\\parsers\\readers.py:577\u001b[0m, in \u001b[0;36m_read\u001b[1;34m(filepath_or_buffer, kwds)\u001b[0m\n\u001b[0;32m    574\u001b[0m _validate_names(kwds\u001b[39m.\u001b[39mget(\u001b[39m\"\u001b[39m\u001b[39mnames\u001b[39m\u001b[39m\"\u001b[39m, \u001b[39mNone\u001b[39;00m))\n\u001b[0;32m    576\u001b[0m \u001b[39m# Create the parser.\u001b[39;00m\n\u001b[1;32m--> 577\u001b[0m parser \u001b[39m=\u001b[39m TextFileReader(filepath_or_buffer, \u001b[39m*\u001b[39;49m\u001b[39m*\u001b[39;49mkwds)\n\u001b[0;32m    579\u001b[0m \u001b[39mif\u001b[39;00m chunksize \u001b[39mor\u001b[39;00m iterator:\n\u001b[0;32m    580\u001b[0m     \u001b[39mreturn\u001b[39;00m parser\n",
      "File \u001b[1;32mc:\\Users\\brand\\AppData\\Local\\Programs\\Python\\Python38\\lib\\site-packages\\pandas\\io\\parsers\\readers.py:1407\u001b[0m, in \u001b[0;36mTextFileReader.__init__\u001b[1;34m(self, f, engine, **kwds)\u001b[0m\n\u001b[0;32m   1404\u001b[0m     \u001b[39mself\u001b[39m\u001b[39m.\u001b[39moptions[\u001b[39m\"\u001b[39m\u001b[39mhas_index_names\u001b[39m\u001b[39m\"\u001b[39m] \u001b[39m=\u001b[39m kwds[\u001b[39m\"\u001b[39m\u001b[39mhas_index_names\u001b[39m\u001b[39m\"\u001b[39m]\n\u001b[0;32m   1406\u001b[0m \u001b[39mself\u001b[39m\u001b[39m.\u001b[39mhandles: IOHandles \u001b[39m|\u001b[39m \u001b[39mNone\u001b[39;00m \u001b[39m=\u001b[39m \u001b[39mNone\u001b[39;00m\n\u001b[1;32m-> 1407\u001b[0m \u001b[39mself\u001b[39m\u001b[39m.\u001b[39m_engine \u001b[39m=\u001b[39m \u001b[39mself\u001b[39;49m\u001b[39m.\u001b[39;49m_make_engine(f, \u001b[39mself\u001b[39;49m\u001b[39m.\u001b[39;49mengine)\n",
      "File \u001b[1;32mc:\\Users\\brand\\AppData\\Local\\Programs\\Python\\Python38\\lib\\site-packages\\pandas\\io\\parsers\\readers.py:1661\u001b[0m, in \u001b[0;36mTextFileReader._make_engine\u001b[1;34m(self, f, engine)\u001b[0m\n\u001b[0;32m   1659\u001b[0m     \u001b[39mif\u001b[39;00m \u001b[39m\"\u001b[39m\u001b[39mb\u001b[39m\u001b[39m\"\u001b[39m \u001b[39mnot\u001b[39;00m \u001b[39min\u001b[39;00m mode:\n\u001b[0;32m   1660\u001b[0m         mode \u001b[39m+\u001b[39m\u001b[39m=\u001b[39m \u001b[39m\"\u001b[39m\u001b[39mb\u001b[39m\u001b[39m\"\u001b[39m\n\u001b[1;32m-> 1661\u001b[0m \u001b[39mself\u001b[39m\u001b[39m.\u001b[39mhandles \u001b[39m=\u001b[39m get_handle(\n\u001b[0;32m   1662\u001b[0m     f,\n\u001b[0;32m   1663\u001b[0m     mode,\n\u001b[0;32m   1664\u001b[0m     encoding\u001b[39m=\u001b[39;49m\u001b[39mself\u001b[39;49m\u001b[39m.\u001b[39;49moptions\u001b[39m.\u001b[39;49mget(\u001b[39m\"\u001b[39;49m\u001b[39mencoding\u001b[39;49m\u001b[39m\"\u001b[39;49m, \u001b[39mNone\u001b[39;49;00m),\n\u001b[0;32m   1665\u001b[0m     compression\u001b[39m=\u001b[39;49m\u001b[39mself\u001b[39;49m\u001b[39m.\u001b[39;49moptions\u001b[39m.\u001b[39;49mget(\u001b[39m\"\u001b[39;49m\u001b[39mcompression\u001b[39;49m\u001b[39m\"\u001b[39;49m, \u001b[39mNone\u001b[39;49;00m),\n\u001b[0;32m   1666\u001b[0m     memory_map\u001b[39m=\u001b[39;49m\u001b[39mself\u001b[39;49m\u001b[39m.\u001b[39;49moptions\u001b[39m.\u001b[39;49mget(\u001b[39m\"\u001b[39;49m\u001b[39mmemory_map\u001b[39;49m\u001b[39m\"\u001b[39;49m, \u001b[39mFalse\u001b[39;49;00m),\n\u001b[0;32m   1667\u001b[0m     is_text\u001b[39m=\u001b[39;49mis_text,\n\u001b[0;32m   1668\u001b[0m     errors\u001b[39m=\u001b[39;49m\u001b[39mself\u001b[39;49m\u001b[39m.\u001b[39;49moptions\u001b[39m.\u001b[39;49mget(\u001b[39m\"\u001b[39;49m\u001b[39mencoding_errors\u001b[39;49m\u001b[39m\"\u001b[39;49m, \u001b[39m\"\u001b[39;49m\u001b[39mstrict\u001b[39;49m\u001b[39m\"\u001b[39;49m),\n\u001b[0;32m   1669\u001b[0m     storage_options\u001b[39m=\u001b[39;49m\u001b[39mself\u001b[39;49m\u001b[39m.\u001b[39;49moptions\u001b[39m.\u001b[39;49mget(\u001b[39m\"\u001b[39;49m\u001b[39mstorage_options\u001b[39;49m\u001b[39m\"\u001b[39;49m, \u001b[39mNone\u001b[39;49;00m),\n\u001b[0;32m   1670\u001b[0m )\n\u001b[0;32m   1671\u001b[0m \u001b[39massert\u001b[39;00m \u001b[39mself\u001b[39m\u001b[39m.\u001b[39mhandles \u001b[39mis\u001b[39;00m \u001b[39mnot\u001b[39;00m \u001b[39mNone\u001b[39;00m\n\u001b[0;32m   1672\u001b[0m f \u001b[39m=\u001b[39m \u001b[39mself\u001b[39m\u001b[39m.\u001b[39mhandles\u001b[39m.\u001b[39mhandle\n",
      "File \u001b[1;32mc:\\Users\\brand\\AppData\\Local\\Programs\\Python\\Python38\\lib\\site-packages\\pandas\\io\\common.py:859\u001b[0m, in \u001b[0;36mget_handle\u001b[1;34m(path_or_buf, mode, encoding, compression, memory_map, is_text, errors, storage_options)\u001b[0m\n\u001b[0;32m    854\u001b[0m \u001b[39melif\u001b[39;00m \u001b[39misinstance\u001b[39m(handle, \u001b[39mstr\u001b[39m):\n\u001b[0;32m    855\u001b[0m     \u001b[39m# Check whether the filename is to be opened in binary mode.\u001b[39;00m\n\u001b[0;32m    856\u001b[0m     \u001b[39m# Binary mode does not support 'encoding' and 'newline'.\u001b[39;00m\n\u001b[0;32m    857\u001b[0m     \u001b[39mif\u001b[39;00m ioargs\u001b[39m.\u001b[39mencoding \u001b[39mand\u001b[39;00m \u001b[39m\"\u001b[39m\u001b[39mb\u001b[39m\u001b[39m\"\u001b[39m \u001b[39mnot\u001b[39;00m \u001b[39min\u001b[39;00m ioargs\u001b[39m.\u001b[39mmode:\n\u001b[0;32m    858\u001b[0m         \u001b[39m# Encoding\u001b[39;00m\n\u001b[1;32m--> 859\u001b[0m         handle \u001b[39m=\u001b[39m \u001b[39mopen\u001b[39;49m(\n\u001b[0;32m    860\u001b[0m             handle,\n\u001b[0;32m    861\u001b[0m             ioargs\u001b[39m.\u001b[39;49mmode,\n\u001b[0;32m    862\u001b[0m             encoding\u001b[39m=\u001b[39;49mioargs\u001b[39m.\u001b[39;49mencoding,\n\u001b[0;32m    863\u001b[0m             errors\u001b[39m=\u001b[39;49merrors,\n\u001b[0;32m    864\u001b[0m             newline\u001b[39m=\u001b[39;49m\u001b[39m\"\u001b[39;49m\u001b[39m\"\u001b[39;49m,\n\u001b[0;32m    865\u001b[0m         )\n\u001b[0;32m    866\u001b[0m     \u001b[39melse\u001b[39;00m:\n\u001b[0;32m    867\u001b[0m         \u001b[39m# Binary mode\u001b[39;00m\n\u001b[0;32m    868\u001b[0m         handle \u001b[39m=\u001b[39m \u001b[39mopen\u001b[39m(handle, ioargs\u001b[39m.\u001b[39mmode)\n",
      "\u001b[1;31mFileNotFoundError\u001b[0m: [Errno 2] No such file or directory: 'players_22.csv'"
     ]
    }
   ],
   "source": [
    "# nation_position, club_position, player_positions\n",
    "df = pd.read_csv('players_22.csv', low_memory=False)\n",
    "\n",
    "# selecting column\n",
    "df = df[['short_name', 'age', 'nationality_name', 'overall', 'potential',\n",
    "         'club_name', 'value_eur', 'wage_eur', 'player_positions']]\n",
    "\n",
    "# selecting only one position\n",
    "df['player_positions'] = df['player_positions'].str.split(',', expand=True)[0]\n",
    "\n",
    "# dropping nan\n",
    "df.dropna(inplace=True)"
   ]
  },
  {
   "cell_type": "code",
   "execution_count": null,
   "id": "b3a08d31",
   "metadata": {},
   "outputs": [],
   "source": [
    "players_missing_worldcup = ['K. Benzema', 'S. Mané', 'S. Agüero', 'Sergio Ramos', 'P. Pogba',\n",
    "                            'M. Reus', 'Diogo Jota', 'A. Harit', 'N. Kanté', 'G. Lo Celso', 'Piqué']\n",
    "\n",
    "# dropping injured players\n",
    "drop_index = df[df['short_name'].isin(players_missing_worldcup)].index\n",
    "df.drop(drop_index, axis=0, inplace=True)"
   ]
  },
  {
   "cell_type": "code",
   "execution_count": null,
   "id": "d69e9bc4",
   "metadata": {},
   "outputs": [],
   "source": [
    "teams_worldcup = [\n",
    "    'Qatar', 'Brazil', 'Belgium', 'France', 'Argentina', 'England', 'Spain', 'Portugal',\n",
    "    'Mexico', 'Netherlands', 'Denmark', 'Germany', 'Uruguay', 'Switzerland', 'United States', 'Croatia',\n",
    "    'Senegal', 'Iran', 'Japan', 'Morocco', 'Serbia', 'Poland', 'South Korea', 'Tunisia',\n",
    "    'Cameroon', 'Canada', 'Ecuador', 'Saudi Arabia', 'Ghana', 'Wales', 'Costa Rica', 'Australia'\n",
    "]\n",
    "\n",
    "# filtering only national teams in the world cup\n",
    "df = df[df['nationality_name'].isin(teams_worldcup)]"
   ]
  },
  {
   "cell_type": "code",
   "execution_count": null,
   "id": "c1b6c8c2",
   "metadata": {},
   "outputs": [],
   "source": [
    "# best players\n",
    "df.sort_values(by=['overall', 'potential', 'value_eur'], ascending=False, inplace=True)"
   ]
  },
  {
   "cell_type": "markdown",
   "id": "4ec7f92a",
   "metadata": {},
   "source": [
    "# Distribution of players overall"
   ]
  },
  {
   "cell_type": "code",
   "execution_count": null,
   "id": "fcf71ddd",
   "metadata": {},
   "outputs": [],
   "source": [
    "import numpy as np\n",
    "fig, ax = plt.subplots(figsize=(12, 5), tight_layout=True)\n",
    "\n",
    "sns.histplot(df, x='overall', binwidth=1)\n",
    "\n",
    "bins = np.arange(df['overall'].min(), df['overall'].max(), 1)\n",
    "plt.xticks(bins)\n",
    "plt.show()"
   ]
  },
  {
   "cell_type": "markdown",
   "id": "8bd3f3a5",
   "metadata": {},
   "source": [
    "# Dream Team World Cup Players"
   ]
  },
  {
   "cell_type": "code",
   "execution_count": null,
   "id": "e6ec9931",
   "metadata": {
    "scrolled": false
   },
   "outputs": [],
   "source": [
    "df.drop_duplicates('player_positions')\n",
    "# viz -> https://trinket.io/python/0813ea96f6"
   ]
  },
  {
   "cell_type": "markdown",
   "id": "63bb3664",
   "metadata": {},
   "source": [
    "# The Most Skillful Players on each National Team"
   ]
  },
  {
   "cell_type": "code",
   "execution_count": null,
   "id": "958d16e8",
   "metadata": {
    "scrolled": false
   },
   "outputs": [],
   "source": [
    "df_best_players = df.copy()\n",
    "df_best_players = df_best_players.drop_duplicates('nationality_name').reset_index(drop=True)\n",
    "country_short =  df_best_players['nationality_name'].str.extract('(^\\w{3})', expand=False).str.upper()\n",
    "df_best_players['name_nationality'] = df_best_players['short_name'] +' (' + country_short + ')'\n",
    "\n",
    "fig, ax = plt.subplots(figsize=(10, 6), tight_layout=True)\n",
    "\n",
    "sns.barplot(df_best_players, x='overall', y='name_nationality',\n",
    "            palette=sns.color_palette('pastel'), width=0.5)\n",
    "plt.show()"
   ]
  },
  {
   "cell_type": "markdown",
   "id": "730edea7",
   "metadata": {},
   "source": [
    "# Best Squad per Team"
   ]
  },
  {
   "cell_type": "code",
   "execution_count": null,
   "id": "6d1e7109",
   "metadata": {
    "scrolled": true
   },
   "outputs": [],
   "source": [
    "def best_squad(nationality):\n",
    "    df_best_squad = df.copy()\n",
    "    df_best_squad = df_best_squad.groupby(['nationality_name', 'player_positions']).head(2)\n",
    "    df_best_squad = df_best_squad[df_best_squad['nationality_name']==nationality].sort_values(['player_positions', 'overall', 'potential'], ascending=False)\n",
    "    return df_best_squad"
   ]
  },
  {
   "cell_type": "code",
   "execution_count": null,
   "id": "348cc1ea",
   "metadata": {
    "scrolled": true
   },
   "outputs": [],
   "source": [
    "best_squad('Brazil')"
   ]
  },
  {
   "cell_type": "code",
   "execution_count": null,
   "id": "437bffd1",
   "metadata": {
    "scrolled": true
   },
   "outputs": [],
   "source": [
    "average_overall = [best_squad(team)['overall'].mean() for team in teams_worldcup]\n",
    "\n",
    "df_average_overall = pd.DataFrame({'Teams': teams_worldcup, 'AVG_Overall': average_overall})\n",
    "df_average_overall = df_average_overall.dropna()\n",
    "df_average_overall = df_average_overall.sort_values('AVG_Overall', ascending=False)\n",
    "df_average_overall"
   ]
  },
  {
   "cell_type": "code",
   "execution_count": null,
   "id": "6b4b71d5",
   "metadata": {},
   "outputs": [],
   "source": [
    "fig, ax = plt.subplots(figsize=(12, 5), tight_layout=True)\n",
    "\n",
    "sns.barplot(df_average_overall[:10], x='Teams', y='AVG_Overall',\n",
    "            palette=sns.color_palette('pastel'))\n",
    "plt.show()"
   ]
  },
  {
   "cell_type": "markdown",
   "id": "156c025e",
   "metadata": {},
   "source": [
    "# Best Formation for each team"
   ]
  },
  {
   "cell_type": "code",
   "execution_count": null,
   "id": "c9537689",
   "metadata": {},
   "outputs": [],
   "source": [
    "def best_lineup(nationality, lineup):\n",
    "    lineup_count = [lineup.count(i) for i in lineup]\n",
    "\n",
    "    df_lineup = pd.DataFrame({'position': lineup, 'count': lineup_count})\n",
    "    positions_non_repeated = df_lineup[df_lineup['count'] <= 1]['position'].values\n",
    "    positions_repeated = df_lineup[df_lineup['count'] > 1]['position'].values\n",
    "\n",
    "    df_squad = best_squad(nationality)\n",
    "\n",
    "    df_lineup = pd.concat([\n",
    "        df_squad[df_squad['player_positions'].isin(positions_non_repeated)].drop_duplicates('player_positions', keep='first'),\n",
    "        df_squad[df_squad['player_positions'].isin(positions_repeated)]]\n",
    "    )\n",
    "    return df_lineup[['short_name', 'overall', 'club_name', 'player_positions']]"
   ]
  },
  {
   "cell_type": "code",
   "execution_count": null,
   "id": "0941f989",
   "metadata": {},
   "outputs": [],
   "source": [
    "dict_formation = {\n",
    "    '4-3-3': ['GK', 'RB', 'CB', 'CB', 'LB', 'CDM', 'CM', 'CAM', 'RW', 'ST', 'LW'],\n",
    "    '4-4-2': ['GK', 'RB', 'CB', 'CB', 'LB', 'RM', 'CM', 'CM', 'LM', 'ST', 'ST'],\n",
    "    '4-2-3-1': ['GK', 'RB', 'CB', 'CB', 'LB', 'CDM', 'CDM', 'CAM', 'CAM', 'CAM', 'ST'],\n",
    "}"
   ]
  },
  {
   "cell_type": "code",
   "execution_count": null,
   "id": "7ff2ee2b",
   "metadata": {
    "scrolled": true
   },
   "outputs": [],
   "source": [
    "for index, row in df_average_overall[:9].iterrows():\n",
    "    max_average = None\n",
    "    for key, values in dict_formation.items():\n",
    "        average = best_lineup(row['Teams'], values)['overall'].mean()\n",
    "        if max_average is None or average>max_average:\n",
    "            max_average = average\n",
    "            formation = key\n",
    "    print(row['Teams'], formation, max_average)"
   ]
  },
  {
   "cell_type": "code",
   "execution_count": null,
   "id": "5e44099d",
   "metadata": {},
   "outputs": [],
   "source": [
    "# best_lineup('Spain', dict_formation['4-2-3-1'])\n",
    "# best_lineup('Argentina', dict_formation['4-3-3'])\n",
    "best_lineup('Brazil', dict_formation['4-3-3'])"
   ]
  }
 ],
 "metadata": {
  "kernelspec": {
   "display_name": "Python 3 (ipykernel)",
   "language": "python",
   "name": "python3"
  },
  "language_info": {
   "codemirror_mode": {
    "name": "ipython",
    "version": 3
   },
   "file_extension": ".py",
   "mimetype": "text/x-python",
   "name": "python",
   "nbconvert_exporter": "python",
   "pygments_lexer": "ipython3",
   "version": "3.8.0"
  },
  "toc": {
   "base_numbering": 1,
   "nav_menu": {},
   "number_sections": true,
   "sideBar": true,
   "skip_h1_title": false,
   "title_cell": "Table of Contents",
   "title_sidebar": "Contents",
   "toc_cell": false,
   "toc_position": {},
   "toc_section_display": true,
   "toc_window_display": false
  }
 },
 "nbformat": 4,
 "nbformat_minor": 5
}
